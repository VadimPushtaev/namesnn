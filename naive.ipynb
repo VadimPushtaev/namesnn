{
 "cells": [
  {
   "cell_type": "code",
   "id": "initial_id",
   "metadata": {
    "collapsed": true,
    "ExecuteTime": {
     "end_time": "2025-04-25T20:32:30.370859Z",
     "start_time": "2025-04-25T20:32:30.365235Z"
    }
   },
   "source": [
    "import torch\n",
    "from tqdm import tqdm\n",
    "import numpy as np\n",
    "\n",
    "from itertools import chain"
   ],
   "outputs": [],
   "execution_count": 111
  },
  {
   "metadata": {
    "ExecuteTime": {
     "end_time": "2025-04-25T18:58:22.438024Z",
     "start_time": "2025-04-25T18:58:22.433130Z"
    }
   },
   "cell_type": "code",
   "source": [
    "FILENAME = \"first_names.all.txt\"\n",
    "N = 3"
   ],
   "id": "95adc6941f5cf46a",
   "outputs": [],
   "execution_count": 3
  },
  {
   "metadata": {
    "ExecuteTime": {
     "end_time": "2025-04-25T18:58:23.067933Z",
     "start_time": "2025-04-25T18:58:22.935498Z"
    }
   },
   "cell_type": "code",
   "source": [
    "names = []\n",
    "with open(FILENAME, \"r\") as f:\n",
    "    for line in f:\n",
    "        line = line.strip().lower()\n",
    "        if not line or not line.isalpha():\n",
    "            continue\n",
    "        names.append(line)\n",
    "\n",
    "chars = set()\n",
    "for name in names:\n",
    "    chars.update(name.strip())\n",
    "\n",
    "len(chars), \"\".join(sorted(chars))"
   ],
   "id": "9d73874e4c33c54e",
   "outputs": [
    {
     "data": {
      "text/plain": [
       "(87,\n",
       " 'abcdefghijklmnopqrstuvwxyzßàáâãäåæçèéêëìíîïðñòóôõöøùúûüýþāăąćčďđēėęěğģīıĳķļľłņňőřşţťūżž')"
      ]
     },
     "execution_count": 4,
     "metadata": {},
     "output_type": "execute_result"
    }
   ],
   "execution_count": 4
  },
  {
   "metadata": {
    "ExecuteTime": {
     "end_time": "2025-04-25T18:58:27.530286Z",
     "start_time": "2025-04-25T18:58:27.521888Z"
    }
   },
   "cell_type": "code",
   "source": [
    "before_start_chars = list(reversed([f\"-{i}\" for i in range(1, N + 1)]))\n",
    "end_char = \"<END>\"\n",
    "\n",
    "char_to_code = {\n",
    "    c: i for i, c in\n",
    "    enumerate([end_char] + before_start_chars + sorted(chars))\n",
    "}\n",
    "code_to_char = {\n",
    "    v: k for k, v in char_to_code.items()\n",
    "}\n",
    "\n",
    "chars_total = len(char_to_code)\n",
    "\n",
    "chars_total, list(char_to_code.items())[:N + 5]"
   ],
   "id": "67de9dde01dec4ff",
   "outputs": [
    {
     "data": {
      "text/plain": [
       "(91,\n",
       " [('<END>', 0),\n",
       "  ('-3', 1),\n",
       "  ('-2', 2),\n",
       "  ('-1', 3),\n",
       "  ('a', 4),\n",
       "  ('b', 5),\n",
       "  ('c', 6),\n",
       "  ('d', 7)])"
      ]
     },
     "execution_count": 5,
     "metadata": {},
     "output_type": "execute_result"
    }
   ],
   "execution_count": 5
  },
  {
   "metadata": {
    "ExecuteTime": {
     "end_time": "2025-04-25T18:59:31.461255Z",
     "start_time": "2025-04-25T18:59:30.849647Z"
    }
   },
   "cell_type": "code",
   "source": [
    "dataset = []\n",
    "for name in tqdm(names):\n",
    "    lst = before_start_chars + list(name) + [end_char]\n",
    "    codes = [char_to_code[c] for c in lst]\n",
    "    dataset.append(np.array(codes))"
   ],
   "id": "bd00115d9a6dee40",
   "outputs": [
    {
     "name": "stderr",
     "output_type": "stream",
     "text": [
      "100%|██████████| 157710/157710 [00:00<00:00, 342123.96it/s]\n"
     ]
    }
   ],
   "execution_count": 9
  },
  {
   "metadata": {
    "ExecuteTime": {
     "end_time": "2025-04-25T20:36:05.505049Z",
     "start_time": "2025-04-25T20:35:48.329816Z"
    }
   },
   "cell_type": "code",
   "source": [
    "shape = [chars_total] * (N + 1)\n",
    "stat = np.full(shape, 0.01)\n",
    "stat.shape"
   ],
   "id": "bf42058084dc12b7",
   "outputs": [
    {
     "data": {
      "text/plain": [
       "(91, 91, 91, 91)"
      ]
     },
     "execution_count": 140,
     "metadata": {},
     "output_type": "execute_result"
    }
   ],
   "execution_count": 140
  },
  {
   "metadata": {
    "ExecuteTime": {
     "end_time": "2025-04-25T20:36:08.720743Z",
     "start_time": "2025-04-25T20:36:05.591783Z"
    }
   },
   "cell_type": "code",
   "source": [
    "for name in tqdm(dataset):\n",
    "    for pos in range(len(name) - N):\n",
    "        index = tuple(name[pos : pos + N + 1])\n",
    "        stat[index] += 1\n"
   ],
   "id": "17ab8eb1d517cf5b",
   "outputs": [
    {
     "name": "stderr",
     "output_type": "stream",
     "text": [
      "100%|██████████| 157710/157710 [00:03<00:00, 50566.50it/s]\n"
     ]
    }
   ],
   "execution_count": 141
  },
  {
   "metadata": {
    "ExecuteTime": {
     "end_time": "2025-04-25T20:36:27.260783Z",
     "start_time": "2025-04-25T20:36:27.254142Z"
    }
   },
   "cell_type": "code",
   "source": [
    "def generate_name() -> str:\n",
    "    idx = [char_to_code[c] for c in before_start_chars]\n",
    "    while True:\n",
    "        next_char_distribution = stat[tuple(idx)]\n",
    "        next_char = np.random.choice(\n",
    "            len(next_char_distribution),\n",
    "            p=next_char_distribution / next_char_distribution.sum(),\n",
    "        )\n",
    "\n",
    "        if next_char in [char_to_code[c] for c in chain(before_start_chars, [end_char])]:\n",
    "            break\n",
    "\n",
    "        yield next_char\n",
    "        idx = idx[1:] + [next_char]\n",
    "\n"
   ],
   "id": "1f042a44c6e9153",
   "outputs": [],
   "execution_count": 144
  },
  {
   "metadata": {
    "ExecuteTime": {
     "end_time": "2025-04-25T22:52:53.529987Z",
     "start_time": "2025-04-25T22:52:53.440672Z"
    }
   },
   "cell_type": "code",
   "source": [
    "for _ in range(9):\n",
    "    print(\"\".join(code_to_char[i] for i in list(generate_name())))"
   ],
   "id": "a7f30292d5ccf6fc",
   "outputs": [
    {
     "name": "stdout",
     "output_type": "stream",
     "text": [
      "nell\n",
      "swalde\n",
      "yanashit\n",
      "shealachesietavernhowley\n",
      "goda\n",
      "deja\n",
      "dygňżðøîbúèyeőâūvđòóúdčīžäęőágùxfťěņečhùýiőïhāñu\n",
      "breya\n",
      "rexhmir\n"
     ]
    }
   ],
   "execution_count": 148
  },
  {
   "metadata": {},
   "cell_type": "code",
   "outputs": [],
   "execution_count": null,
   "source": "",
   "id": "f106451f54eeab44"
  }
 ],
 "metadata": {
  "kernelspec": {
   "display_name": "Python 3",
   "language": "python",
   "name": "python3"
  },
  "language_info": {
   "codemirror_mode": {
    "name": "ipython",
    "version": 2
   },
   "file_extension": ".py",
   "mimetype": "text/x-python",
   "name": "python",
   "nbconvert_exporter": "python",
   "pygments_lexer": "ipython2",
   "version": "2.7.6"
  }
 },
 "nbformat": 4,
 "nbformat_minor": 5
}
