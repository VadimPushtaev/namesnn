{
 "cells": [
  {
   "cell_type": "code",
   "id": "initial_id",
   "metadata": {
    "collapsed": true,
    "ExecuteTime": {
     "end_time": "2025-07-27T12:29:19.100767Z",
     "start_time": "2025-07-27T12:29:15.062234Z"
    }
   },
   "source": [
    "import torch\n",
    "import torch.nn.functional as F\n",
    "import matplotlib.pyplot as plt # for making figures\n",
    "import random\n",
    "import torch.nn as nn\n",
    "from dataclasses import dataclass\n",
    "%matplotlib inline"
   ],
   "outputs": [],
   "execution_count": 1
  },
  {
   "metadata": {
    "ExecuteTime": {
     "end_time": "2025-07-27T12:29:19.155196Z",
     "start_time": "2025-07-27T12:29:19.118177Z"
    }
   },
   "cell_type": "code",
   "source": [
    "raw_words = open('first_names.all.txt').read().splitlines()\n",
    "raw_words[:8]"
   ],
   "id": "5611e575c9f945fc",
   "outputs": [
    {
     "data": {
      "text/plain": [
       "[\"a'isha\",\n",
       " \"a'ishah\",\n",
       " 'a-jay',\n",
       " \"aa'isha\",\n",
       " \"aa'ishah\",\n",
       " 'aaban',\n",
       " 'aabas',\n",
       " 'aabha']"
      ]
     },
     "execution_count": 2,
     "metadata": {},
     "output_type": "execute_result"
    }
   ],
   "execution_count": 2
  },
  {
   "metadata": {
    "ExecuteTime": {
     "end_time": "2025-07-27T12:29:21.114694Z",
     "start_time": "2025-07-27T12:29:21.084581Z"
    }
   },
   "cell_type": "code",
   "source": [
    "words = []\n",
    "for word in raw_words:\n",
    "    if word.isalpha():\n",
    "        words.append(word)"
   ],
   "id": "5d72ddcbd08f3356",
   "outputs": [],
   "execution_count": 3
  },
  {
   "metadata": {
    "ExecuteTime": {
     "end_time": "2025-07-27T12:29:21.513158Z",
     "start_time": "2025-07-27T12:29:21.505896Z"
    }
   },
   "cell_type": "code",
   "source": "words[:8]",
   "id": "f4f2e9c0503c6882",
   "outputs": [
    {
     "data": {
      "text/plain": [
       "['aaban', 'aabas', 'aabha', 'aabia', 'aabid', 'aabidah', 'aabidammar', 'aabir']"
      ]
     },
     "execution_count": 4,
     "metadata": {},
     "output_type": "execute_result"
    }
   ],
   "execution_count": 4
  },
  {
   "metadata": {
    "ExecuteTime": {
     "end_time": "2025-07-27T12:29:21.945262Z",
     "start_time": "2025-07-27T12:29:21.939378Z"
    }
   },
   "cell_type": "code",
   "source": "block_size = 3",
   "id": "4c7d97efc018939e",
   "outputs": [],
   "execution_count": 5
  },
  {
   "metadata": {
    "ExecuteTime": {
     "end_time": "2025-07-27T12:29:22.633701Z",
     "start_time": "2025-07-27T12:29:22.608878Z"
    }
   },
   "cell_type": "code",
   "source": [
    "# build the vocabulary of characters and mappings to/from integers\n",
    "chars = sorted(list(set(''.join(words))))\n",
    "stoi = {s:i+1 for i,s in enumerate(chars)}\n",
    "stoi['.'] = 0\n",
    "itos = {i:s for s,i in stoi.items()}\n",
    "print(itos)\n",
    "print(stoi)\n",
    "\n",
    "chars_n = len(chars) + 1"
   ],
   "id": "9ff11ffad9ae5a71",
   "outputs": [
    {
     "name": "stdout",
     "output_type": "stream",
     "text": [
      "{1: 'a', 2: 'b', 3: 'c', 4: 'd', 5: 'e', 6: 'f', 7: 'g', 8: 'h', 9: 'i', 10: 'j', 11: 'k', 12: 'l', 13: 'm', 14: 'n', 15: 'o', 16: 'p', 17: 'q', 18: 'r', 19: 's', 20: 't', 21: 'u', 22: 'v', 23: 'w', 24: 'x', 25: 'y', 26: 'z', 27: 'ß', 28: 'à', 29: 'á', 30: 'â', 31: 'ã', 32: 'ä', 33: 'å', 34: 'æ', 35: 'ç', 36: 'è', 37: 'é', 38: 'ê', 39: 'ë', 40: 'ì', 41: 'í', 42: 'î', 43: 'ï', 44: 'ð', 45: 'ñ', 46: 'ò', 47: 'ó', 48: 'ô', 49: 'õ', 50: 'ö', 51: 'ø', 52: 'ù', 53: 'ú', 54: 'û', 55: 'ü', 56: 'ý', 57: 'þ', 58: 'ā', 59: 'ă', 60: 'ą', 61: 'ć', 62: 'č', 63: 'ď', 64: 'đ', 65: 'ē', 66: 'ė', 67: 'ę', 68: 'ě', 69: 'ğ', 70: 'ģ', 71: 'ī', 72: 'ı', 73: 'ĳ', 74: 'ķ', 75: 'ļ', 76: 'ľ', 77: 'ł', 78: 'ņ', 79: 'ň', 80: 'ő', 81: 'ř', 82: 'ş', 83: 'ţ', 84: 'ť', 85: 'ū', 86: 'ż', 87: 'ž', 0: '.'}\n",
      "{'a': 1, 'b': 2, 'c': 3, 'd': 4, 'e': 5, 'f': 6, 'g': 7, 'h': 8, 'i': 9, 'j': 10, 'k': 11, 'l': 12, 'm': 13, 'n': 14, 'o': 15, 'p': 16, 'q': 17, 'r': 18, 's': 19, 't': 20, 'u': 21, 'v': 22, 'w': 23, 'x': 24, 'y': 25, 'z': 26, 'ß': 27, 'à': 28, 'á': 29, 'â': 30, 'ã': 31, 'ä': 32, 'å': 33, 'æ': 34, 'ç': 35, 'è': 36, 'é': 37, 'ê': 38, 'ë': 39, 'ì': 40, 'í': 41, 'î': 42, 'ï': 43, 'ð': 44, 'ñ': 45, 'ò': 46, 'ó': 47, 'ô': 48, 'õ': 49, 'ö': 50, 'ø': 51, 'ù': 52, 'ú': 53, 'û': 54, 'ü': 55, 'ý': 56, 'þ': 57, 'ā': 58, 'ă': 59, 'ą': 60, 'ć': 61, 'č': 62, 'ď': 63, 'đ': 64, 'ē': 65, 'ė': 66, 'ę': 67, 'ě': 68, 'ğ': 69, 'ģ': 70, 'ī': 71, 'ı': 72, 'ĳ': 73, 'ķ': 74, 'ļ': 75, 'ľ': 76, 'ł': 77, 'ņ': 78, 'ň': 79, 'ő': 80, 'ř': 81, 'ş': 82, 'ţ': 83, 'ť': 84, 'ū': 85, 'ż': 86, 'ž': 87, '.': 0}\n"
     ]
    }
   ],
   "execution_count": 6
  },
  {
   "metadata": {
    "ExecuteTime": {
     "end_time": "2025-07-27T12:29:28.671634Z",
     "start_time": "2025-07-27T12:29:23.550916Z"
    }
   },
   "cell_type": "code",
   "source": [
    "@dataclass\n",
    "class CharDataset:\n",
    "    X_train: torch.Tensor\n",
    "    Y_train: torch.Tensor\n",
    "    X_val: torch.Tensor\n",
    "    Y_val: torch.Tensor\n",
    "    X_test: torch.Tensor\n",
    "    Y_test: torch.Tensor\n",
    "\n",
    "    @classmethod\n",
    "    def build(cls, words, stoi, block_size, splits=(0.8, 0.1, 0.1), device='cuda'):\n",
    "        random.shuffle(words)\n",
    "        n = len(words)\n",
    "        n1 = int(splits[0] * n)\n",
    "        n2 = n1 + int(splits[1] * n)\n",
    "        splits_words = [words[:n1], words[n1:n2], words[n2:]]\n",
    "\n",
    "        def build_xy(subset):\n",
    "            X, Y = [], []\n",
    "            for w in subset:\n",
    "                context = [0] * block_size\n",
    "                for ch in w + '.':\n",
    "                    ix = stoi[ch]\n",
    "                    X.append(context)\n",
    "                    Y.append(ix)\n",
    "                    context = context[1:] + [ix]\n",
    "            return torch.tensor(X, device=device), torch.tensor(Y, device=device)\n",
    "\n",
    "        X_train, Y_train = build_xy(splits_words[0])\n",
    "        X_val, Y_val = build_xy(splits_words[1])\n",
    "        X_test, Y_test = build_xy(splits_words[2])\n",
    "\n",
    "        return cls(X_train, Y_train, X_val, Y_val, X_test, Y_test)\n",
    "\n",
    "random.shuffle(words)\n",
    "n1 = int(0.8*len(words))\n",
    "n2 = int(0.9*len(words))\n",
    "\n",
    "dataset = CharDataset.build(words, stoi, block_size)"
   ],
   "id": "a8e3f67476c25903",
   "outputs": [],
   "execution_count": 7
  },
  {
   "metadata": {
    "ExecuteTime": {
     "end_time": "2025-07-27T12:29:28.741518Z",
     "start_time": "2025-07-27T12:29:28.683267Z"
    }
   },
   "cell_type": "code",
   "source": "dataset.X_val[0:10], dataset.Y_val[:10]",
   "id": "a56c2b8c4fa3c950",
   "outputs": [
    {
     "data": {
      "text/plain": [
       "(tensor([[ 0,  0,  0],\n",
       "         [ 0,  0, 13],\n",
       "         [ 0, 13,  1],\n",
       "         [13,  1,  7],\n",
       "         [ 1,  7, 14],\n",
       "         [ 7, 14,  5],\n",
       "         [14,  5, 18],\n",
       "         [ 0,  0,  0],\n",
       "         [ 0,  0,  1],\n",
       "         [ 0,  1, 22]], device='cuda:0'),\n",
       " tensor([13,  1,  7, 14,  5, 18,  0,  1, 22, 18], device='cuda:0'))"
      ]
     },
     "execution_count": 8,
     "metadata": {},
     "output_type": "execute_result"
    }
   ],
   "execution_count": 8
  },
  {
   "metadata": {
    "ExecuteTime": {
     "end_time": "2025-07-27T12:42:59.157587Z",
     "start_time": "2025-07-27T12:42:59.141364Z"
    }
   },
   "cell_type": "code",
   "source": [
    "class SimpleCharModel(nn.Module):\n",
    "    def __init__(self, vocab_size, embedding_dim, hidden1, hidden2, hidden3, block_size, dropout_p=0.5):\n",
    "        super().__init__()\n",
    "        self.block_size = block_size\n",
    "        self.embedding = nn.Embedding(vocab_size, embedding_dim)\n",
    "\n",
    "        self.fc1 = nn.Linear(block_size * embedding_dim, hidden1)\n",
    "        self.bn1 = nn.BatchNorm1d(hidden1)\n",
    "\n",
    "        self.fc2 = nn.Linear(hidden1, hidden2)\n",
    "        self.bn2 = nn.BatchNorm1d(hidden2)\n",
    "\n",
    "        self.fc3 = nn.Linear(hidden2, hidden3)\n",
    "        self.bn3 = nn.BatchNorm1d(hidden3)\n",
    "\n",
    "        self.fc_out = nn.Linear(hidden3, vocab_size)\n",
    "        self.dropout = nn.Dropout(dropout_p)\n",
    "\n",
    "        self.train_losses = []\n",
    "        self.val_losses = []\n",
    "\n",
    "    def forward(self, x):\n",
    "        x = self.embedding(x)\n",
    "        x = x.view(x.shape[0], -1)\n",
    "\n",
    "        x = F.relu(self.bn1(self.fc1(x)))\n",
    "        x = self.dropout(x)\n",
    "\n",
    "        x = F.relu(self.bn2(self.fc2(x)))\n",
    "        x = self.dropout(x)\n",
    "\n",
    "        x = F.relu(self.bn3(self.fc3(x)))\n",
    "        x = self.dropout(x)\n",
    "\n",
    "        logits = self.fc_out(x)\n",
    "        return logits\n",
    "\n",
    "    def _log_losses(self, epoch, train_loss, val_loss=None):\n",
    "        self.train_losses.append((epoch, train_loss))\n",
    "        if val_loss is not None:\n",
    "            self.val_losses.append((epoch, val_loss))\n",
    "\n",
    "    def train_model(self, dataset, epochs=100, lr=0.01, print_every=10):\n",
    "        optimizer = torch.optim.Adam(self.parameters(), lr=lr)\n",
    "        for epoch in range(epochs):\n",
    "            if epoch > 50:\n",
    "                lr /= 10\n",
    "\n",
    "            self.train()\n",
    "            logits = self(dataset.X_train)\n",
    "            loss = F.cross_entropy(logits, dataset.Y_train)\n",
    "\n",
    "            optimizer.zero_grad()\n",
    "            loss.backward()\n",
    "            optimizer.step()\n",
    "\n",
    "            val_loss = None\n",
    "            if epoch % print_every == 0 or epoch == epochs - 1:\n",
    "                self.eval()\n",
    "                val_loss = self.evaluate_loss(dataset.X_val, dataset.Y_val)\n",
    "                print(f\"Epoch {epoch}, Train Loss: {loss.item():.4f}, Val Loss: {val_loss:.4f}\")\n",
    "\n",
    "            self._log_losses(epoch, loss.item(), val_loss)\n",
    "\n",
    "    def evaluate_loss(self, X, Y):\n",
    "        with torch.no_grad():\n",
    "            logits = self(X)\n",
    "            loss = F.cross_entropy(logits, Y)\n",
    "        return loss.item()\n",
    "\n",
    "    def plot_loss_history(self):\n",
    "        plt.figure(figsize=(10, 5))\n",
    "\n",
    "        if self.train_losses:\n",
    "            train_epochs, train_vals = zip(*self.train_losses)\n",
    "            plt.plot(train_epochs, train_vals, label=\"Train Loss\")\n",
    "\n",
    "        if self.val_losses:\n",
    "            val_epochs, val_vals = zip(*self.val_losses)\n",
    "            plt.plot(val_epochs, val_vals, 'o-', label=\"Validation Loss\")\n",
    "\n",
    "        plt.xlabel('Epoch')\n",
    "        plt.ylabel('Loss')\n",
    "        plt.title('Training and Validation Loss History')\n",
    "        plt.legend()\n",
    "        plt.grid(True)\n",
    "        plt.show()\n",
    "\n"
   ],
   "id": "8eeea1cc4290c9af",
   "outputs": [],
   "execution_count": 26
  },
  {
   "metadata": {
    "ExecuteTime": {
     "end_time": "2025-07-27T12:43:00.177304Z",
     "start_time": "2025-07-27T12:43:00.166152Z"
    }
   },
   "cell_type": "code",
   "source": "model = SimpleCharModel(vocab_size=chars_n, embedding_dim=20, hidden1=200, hidden2=400, hidden3=200, block_size=block_size).cuda()",
   "id": "85fdf31e117aef85",
   "outputs": [],
   "execution_count": 27
  },
  {
   "metadata": {
    "ExecuteTime": {
     "end_time": "2025-07-27T12:50:32.899129Z",
     "start_time": "2025-07-27T12:43:02.671111Z"
    }
   },
   "cell_type": "code",
   "source": "model.train_model(dataset, epochs=100, lr=0.01, print_every=5)",
   "id": "e152d16d3fe82e40",
   "outputs": [
    {
     "name": "stdout",
     "output_type": "stream",
     "text": [
      "Epoch 0, Train Loss: 4.6564, Val Loss: 4.1145\n",
      "Epoch 5, Train Loss: 2.7428, Val Loss: 2.7896\n",
      "Epoch 10, Train Loss: 2.6335, Val Loss: 2.5901\n",
      "Epoch 15, Train Loss: 2.5784, Val Loss: 2.5183\n",
      "Epoch 20, Train Loss: 2.5498, Val Loss: 2.4960\n",
      "Epoch 25, Train Loss: 2.5291, Val Loss: 2.4758\n",
      "Epoch 30, Train Loss: 2.5149, Val Loss: 2.4608\n",
      "Epoch 35, Train Loss: 2.5020, Val Loss: 2.4483\n",
      "Epoch 40, Train Loss: 2.4914, Val Loss: 2.4375\n",
      "Epoch 45, Train Loss: 2.4828, Val Loss: 2.4289\n",
      "Epoch 50, Train Loss: 2.4758, Val Loss: 2.4207\n",
      "Epoch 55, Train Loss: 2.4682, Val Loss: 2.4142\n",
      "Epoch 60, Train Loss: 2.4629, Val Loss: 2.4080\n",
      "Epoch 65, Train Loss: 2.4581, Val Loss: 2.4026\n",
      "Epoch 70, Train Loss: 2.4524, Val Loss: 2.3976\n",
      "Epoch 75, Train Loss: 2.4483, Val Loss: 2.3927\n",
      "Epoch 80, Train Loss: 2.4437, Val Loss: 2.3885\n",
      "Epoch 85, Train Loss: 2.4399, Val Loss: 2.3848\n",
      "Epoch 90, Train Loss: 2.4359, Val Loss: 2.3815\n",
      "Epoch 95, Train Loss: 2.4326, Val Loss: 2.3785\n",
      "Epoch 99, Train Loss: 2.4304, Val Loss: 2.3763\n"
     ]
    }
   ],
   "execution_count": 28
  },
  {
   "metadata": {
    "ExecuteTime": {
     "end_time": "2025-07-27T12:50:37.906009Z",
     "start_time": "2025-07-27T12:50:37.780520Z"
    }
   },
   "cell_type": "code",
   "source": "model.plot_loss_history()",
   "id": "5e42f4ca68a89253",
   "outputs": [
    {
     "data": {
      "text/plain": [
       "<Figure size 1000x500 with 1 Axes>"
      ],
      "image/png": "[encoded data removed]"
     },
     "metadata": {},
     "output_type": "display_data"
    }
   ],
   "execution_count": 29
  },
  {
   "metadata": {
    "ExecuteTime": {
     "end_time": "2025-07-27T12:56:06.170404Z",
     "start_time": "2025-07-27T12:56:05.418588Z"
    }
   },
   "cell_type": "code",
   "source": [
    "def sample_from_model(model, stoi, itos, block_size, num_samples=20, device='cuda'):\n",
    "    model.eval()\n",
    "    for _ in range(num_samples):\n",
    "        context = [0] * block_size  # initialize with all padding (start)\n",
    "        name = ''\n",
    "        while True:\n",
    "            x = torch.tensor([context], dtype=torch.long, device=device)\n",
    "            logits = model(x)\n",
    "            probs = F.softmax(logits, dim=1)\n",
    "            ix = torch.multinomial(probs, num_samples=1).item()\n",
    "            if ix == 0:\n",
    "                break\n",
    "            name += itos[ix]\n",
    "            context = context[1:] + [ix]\n",
    "        print(name)\n",
    "\n",
    "# Sample 20 names\n",
    "sample_from_model(model, stoi, itos, block_size, num_samples=20)\n"
   ],
   "id": "5cdb033207cf904c",
   "outputs": [
    {
     "name": "stdout",
     "output_type": "stream",
     "text": [
      "şestirtanika\n",
      "fler\n",
      "neil\n",
      "mulde\n",
      "asher\n",
      "esz\n",
      "miry\n",
      "ley\n",
      "mcdi\n",
      "barjhoattiyose\n",
      "nairatla\n",
      "vallya\n",
      "moshan\n",
      "havantelia\n",
      "shaijasembátitea\n",
      "branelline\n",
      "mathana\n",
      "heemeke\n",
      "stad\n",
      "mae\n"
     ]
    }
   ],
   "execution_count": 44
  },
  {
   "metadata": {
    "ExecuteTime": {
     "end_time": "2025-07-27T12:56:40.645224Z",
     "start_time": "2025-07-27T12:56:40.639387Z"
    }
   },
   "cell_type": "code",
   "source": "0",
   "id": "eb80d113287be0b1",
   "outputs": [
    {
     "data": {
      "text/plain": [
       "0"
      ]
     },
     "execution_count": 45,
     "metadata": {},
     "output_type": "execute_result"
    }
   ],
   "execution_count": 45
  },
  {
   "metadata": {},
   "cell_type": "code",
   "outputs": [],
   "execution_count": null,
   "source": "",
   "id": "9e06eb5dafa3b36b"
  }
 ],
 "metadata": {
  "kernelspec": {
   "display_name": "Python 3",
   "language": "python",
   "name": "python3"
  },
  "language_info": {
   "codemirror_mode": {
    "name": "ipython",
    "version": 2
   },
   "file_extension": ".py",
   "mimetype": "text/x-python",
   "name": "python",
   "nbconvert_exporter": "python",
   "pygments_lexer": "ipython2",
   "version": "2.7.6"
  }
 },
 "nbformat": 4,
 "nbformat_minor": 5
}
