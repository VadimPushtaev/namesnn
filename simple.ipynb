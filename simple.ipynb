{
 "cells": [
  {
   "cell_type": "code",
   "id": "initial_id",
   "metadata": {
    "collapsed": true,
    "ExecuteTime": {
     "end_time": "2025-04-26T18:41:19.928493Z",
     "start_time": "2025-04-26T18:41:16.298766Z"
    }
   },
   "source": [
    "import torch\n",
    "from tqdm import tqdm\n",
    "import numpy as np\n",
    "import torch.nn.functional as F\n",
    "from itertools import chain"
   ],
   "outputs": [],
   "execution_count": 1
  },
  {
   "metadata": {
    "ExecuteTime": {
     "end_time": "2025-04-26T18:41:19.938318Z",
     "start_time": "2025-04-26T18:41:19.934360Z"
    }
   },
   "cell_type": "code",
   "source": [
    "FILENAME = \"first_names.all.txt\"\n",
    "N = 10"
   ],
   "id": "95adc6941f5cf46a",
   "outputs": [],
   "execution_count": 2
  },
  {
   "metadata": {
    "ExecuteTime": {
     "end_time": "2025-04-26T18:41:21.612371Z",
     "start_time": "2025-04-26T18:41:21.460222Z"
    }
   },
   "cell_type": "code",
   "source": [
    "names = []\n",
    "with open(FILENAME, \"r\") as f:\n",
    "    for line in f:\n",
    "        line = line.strip().lower()\n",
    "        if not line or not line.isalpha():\n",
    "            continue\n",
    "        names.append(line)\n",
    "\n",
    "chars = set()\n",
    "for name in names:\n",
    "    chars.update(name.strip())\n",
    "\n",
    "len(chars), \"\".join(sorted(chars))"
   ],
   "id": "9d73874e4c33c54e",
   "outputs": [
    {
     "data": {
      "text/plain": [
       "(87,\n",
       " 'abcdefghijklmnopqrstuvwxyzßàáâãäåæçèéêëìíîïðñòóôõöøùúûüýþāăąćčďđēėęěğģīıĳķļľłņňőřşţťūżž')"
      ]
     },
     "execution_count": 3,
     "metadata": {},
     "output_type": "execute_result"
    }
   ],
   "execution_count": 3
  },
  {
   "metadata": {
    "ExecuteTime": {
     "end_time": "2025-04-26T18:41:22.902324Z",
     "start_time": "2025-04-26T18:41:22.893422Z"
    }
   },
   "cell_type": "code",
   "source": [
    "before_start_chars = list(reversed([f\"-{i}\" for i in range(1, N + 1)]))\n",
    "end_char = \"<END>\"\n",
    "\n",
    "char_to_code = {\n",
    "    c: i for i, c in\n",
    "    enumerate([end_char] + before_start_chars + sorted(chars))\n",
    "}\n",
    "code_to_char = {\n",
    "    v: k for k, v in char_to_code.items()\n",
    "}\n",
    "\n",
    "chars_total = len(char_to_code)\n",
    "\n",
    "chars_total, list(char_to_code.items())[:N + 5]"
   ],
   "id": "67de9dde01dec4ff",
   "outputs": [
    {
     "data": {
      "text/plain": [
       "(98,\n",
       " [('<END>', 0),\n",
       "  ('-10', 1),\n",
       "  ('-9', 2),\n",
       "  ('-8', 3),\n",
       "  ('-7', 4),\n",
       "  ('-6', 5),\n",
       "  ('-5', 6),\n",
       "  ('-4', 7),\n",
       "  ('-3', 8),\n",
       "  ('-2', 9),\n",
       "  ('-1', 10),\n",
       "  ('a', 11),\n",
       "  ('b', 12),\n",
       "  ('c', 13),\n",
       "  ('d', 14)])"
      ]
     },
     "execution_count": 4,
     "metadata": {},
     "output_type": "execute_result"
    }
   ],
   "execution_count": 4
  },
  {
   "metadata": {
    "ExecuteTime": {
     "end_time": "2025-04-26T18:41:25.018144Z",
     "start_time": "2025-04-26T18:41:24.067822Z"
    }
   },
   "cell_type": "code",
   "source": [
    "dataset = []\n",
    "for name in tqdm(names):\n",
    "    lst = before_start_chars + list(name) + [end_char]\n",
    "    codes = [char_to_code[c] for c in lst]\n",
    "    dataset.append(np.array(codes))"
   ],
   "id": "bd00115d9a6dee40",
   "outputs": [
    {
     "name": "stderr",
     "output_type": "stream",
     "text": [
      "100%|██████████| 157710/157710 [00:00<00:00, 168368.00it/s]\n"
     ]
    }
   ],
   "execution_count": 5
  },
  {
   "metadata": {
    "ExecuteTime": {
     "end_time": "2025-04-26T18:41:40.037834Z",
     "start_time": "2025-04-26T18:41:26.045327Z"
    }
   },
   "cell_type": "code",
   "source": [
    "xs = []\n",
    "ys = []\n",
    "for name in tqdm(dataset):\n",
    "    for pos in range(len(name) - N):\n",
    "        x = tuple(name[pos : pos + N])\n",
    "        y = name[pos + N]\n",
    "\n",
    "        xs.append(x)\n",
    "        ys.append(y)\n",
    "\n",
    "xs_t = torch.tensor(xs)\n",
    "ys_t = torch.tensor(ys)\n",
    "\n",
    "xs_t.shape, ys_t.shape"
   ],
   "id": "78824a1a0498aa5f",
   "outputs": [
    {
     "name": "stderr",
     "output_type": "stream",
     "text": [
      "100%|██████████| 157710/157710 [00:07<00:00, 20562.31it/s]\n"
     ]
    },
    {
     "data": {
      "text/plain": [
       "(torch.Size([1204945, 10]), torch.Size([1204945]))"
      ]
     },
     "execution_count": 6,
     "metadata": {},
     "output_type": "execute_result"
    }
   ],
   "execution_count": 6
  },
  {
   "metadata": {
    "ExecuteTime": {
     "end_time": "2025-04-26T18:41:40.893703Z",
     "start_time": "2025-04-26T18:41:40.788994Z"
    }
   },
   "cell_type": "code",
   "source": [
    "batch_size = 25000\n",
    "\n",
    "def reshuffle():\n",
    "    x_batched = []\n",
    "    y_batched = []\n",
    "\n",
    "    global xs_t, ys_t\n",
    "    perms = torch.randperm(xs_t.size(0))\n",
    "    xs_t = xs_t[perms]\n",
    "    ys_t = ys_t[perms]\n",
    "\n",
    "    for i in list(range(0, len(xs_t), batch_size)):\n",
    "        x = xs_t[i : i + batch_size]\n",
    "        y = ys_t[i : i + batch_size]\n",
    "\n",
    "        x_batched.append(x)\n",
    "        y_batched.append(y)\n",
    "\n",
    "    return x_batched, y_batched\n",
    "\n",
    "x_batched, y_batched = reshuffle()\n",
    "x_batched[0].dtype, y_batched[0].shape, len(x_batched), len(y_batched)"
   ],
   "id": "a88a890dbfb06333",
   "outputs": [
    {
     "data": {
      "text/plain": [
       "(torch.int64, torch.Size([25000]), 49, 49)"
      ]
     },
     "execution_count": 7,
     "metadata": {},
     "output_type": "execute_result"
    }
   ],
   "execution_count": 7
  },
  {
   "metadata": {
    "ExecuteTime": {
     "end_time": "2025-04-26T18:41:45.357006Z",
     "start_time": "2025-04-26T18:41:44.262146Z"
    }
   },
   "cell_type": "code",
   "source": [
    "device = torch.device('cuda')\n",
    "layers_n = 3\n",
    "width = 3500\n",
    "ws = []\n",
    "bs = []\n",
    "\n",
    "input_size = N * chars_total\n",
    "\n",
    "for _ in range(layers_n):\n",
    "    is_first = len(ws) == 0\n",
    "    is_last = len(ws) == layers_n - 1\n",
    "\n",
    "    isize = input_size if is_first else width\n",
    "    osize = chars_total if is_last else width\n",
    "\n",
    "    w = (torch.randn(isize, osize, device=device) * 0.01).requires_grad_(True)\n",
    "    b = torch.zeros(osize, device=device, requires_grad=True)\n",
    "\n",
    "    ws.append(w)\n",
    "    bs.append(b)\n",
    "#\n",
    "# w1 = (torch.randn(input_size, 3500, device=device) * 0.01).requires_grad_(True)\n",
    "# w2 = (torch.randn(3500, chars_total, device=device) * 0.01).requires_grad_(True)\n",
    "#\n",
    "# b1 = torch.zeros(3500, device=device, requires_grad=True)\n",
    "# b2 = torch.zeros(chars_total, device=device, requires_grad=True)\n",
    "\n",
    "[(w.shape, b.shape) for w, b in zip(ws, bs)]"
   ],
   "id": "1f042a44c6e9153",
   "outputs": [
    {
     "data": {
      "text/plain": [
       "[(torch.Size([980, 3500]), torch.Size([3500])),\n",
       " (torch.Size([3500, 3500]), torch.Size([3500])),\n",
       " (torch.Size([3500, 98]), torch.Size([98]))]"
      ]
     },
     "execution_count": 8,
     "metadata": {},
     "output_type": "execute_result"
    }
   ],
   "execution_count": 8
  },
  {
   "metadata": {
    "ExecuteTime": {
     "end_time": "2025-04-26T18:42:32.476096Z",
     "start_time": "2025-04-26T18:42:32.471567Z"
    }
   },
   "cell_type": "code",
   "source": "loss_history = []",
   "id": "508b6d6ee2d060fc",
   "outputs": [],
   "execution_count": 9
  },
  {
   "metadata": {
    "ExecuteTime": {
     "end_time": "2025-04-26T18:46:50.170693Z",
     "start_time": "2025-04-26T18:45:07.769848Z"
    }
   },
   "cell_type": "code",
   "source": [
    "rate = 0.04\n",
    "reg = 0.02\n",
    "\n",
    "for i in tqdm(list(range(10))):\n",
    "    x_batched, y_batched = reshuffle()\n",
    "\n",
    "    for x_batch, y_batch in zip(x_batched, y_batched):\n",
    "\n",
    "        x_batch = x_batch.to(device)\n",
    "        y_batch = y_batch.to(device)\n",
    "\n",
    "        r = F.one_hot(x_batch, num_classes=chars_total).flatten(start_dim=1).float()\n",
    "\n",
    "        for layer_i, (w, b) in enumerate(zip(ws, bs)):\n",
    "            is_last = layer_i == layers_n - 1\n",
    "\n",
    "            r = r @ w + b\n",
    "            if not is_last:\n",
    "                r = r.relu()\n",
    "            else:\n",
    "                r = r.softmax(dim=1)\n",
    "\n",
    "        truth = r[torch.arange(len(y_batch), device=device), y_batch]\n",
    "        #regularization = reg*((w1**2).mean() + (w2**2).mean() + (b1**2).mean() + (b2**2).mean())\n",
    "        regularization = reg * sum((w**2).mean() + (b**2).mean() for w, b in zip(ws, bs))\n",
    "        loss = -torch.log(truth).mean() + regularization\n",
    "\n",
    "        loss_history.append(loss.item())\n",
    "\n",
    "        for w, b in zip(ws, bs):\n",
    "            w.grad = None\n",
    "            b.grad = None\n",
    "        loss.backward()\n",
    "\n",
    "        # update weights\n",
    "        with torch.no_grad():\n",
    "            for w, b in zip(ws, bs):\n",
    "                w -= rate * w.grad\n",
    "                b -= rate * b.grad"
   ],
   "id": "b9226eaf482603b3",
   "outputs": [
    {
     "name": "stderr",
     "output_type": "stream",
     "text": [
      "100%|██████████| 10/10 [01:42<00:00, 10.24s/it]\n"
     ]
    }
   ],
   "execution_count": 19
  },
  {
   "metadata": {
    "ExecuteTime": {
     "end_time": "2025-04-26T18:46:50.442309Z",
     "start_time": "2025-04-26T18:46:50.316626Z"
    }
   },
   "cell_type": "code",
   "source": [
    "# plot loss_history\n",
    "import matplotlib.pyplot as plt\n",
    "plt.plot(loss_history)\n",
    "plt.xlabel(\"Iteration\")\n",
    "plt.ylabel(\"Loss\")\n",
    "plt.title(\"Loss History\")\n",
    "plt.show()"
   ],
   "id": "b042d51dcaf3acd7",
   "outputs": [
    {
     "data": {
      "text/plain": [
       "<Figure size 640x480 with 1 Axes>"
      ],
      "image/png": "[encoded data removed]"
     },
     "metadata": {},
     "output_type": "display_data"
    }
   ],
   "execution_count": 20
  },
  {
   "metadata": {
    "ExecuteTime": {
     "end_time": "2025-04-26T18:46:53.097065Z",
     "start_time": "2025-04-26T18:46:53.089784Z"
    }
   },
   "cell_type": "code",
   "source": [
    "import os\n",
    "def generate_name() -> str:\n",
    "    with torch.no_grad():\n",
    "        prev = [char_to_code[c] for c in before_start_chars]\n",
    "        while True:\n",
    "            prev_tensor = torch.tensor(prev, dtype=torch.int64, device=device)\n",
    "            distribution_tensor = torch.tensor(prev_tensor, dtype=torch.int64, device=device)\n",
    "            r = F.one_hot(distribution_tensor, num_classes=chars_total).view(-1).float().to(device)\n",
    "\n",
    "            for layer_i, (w, b) in enumerate(zip(ws, bs)):\n",
    "                is_last = layer_i == layers_n - 1\n",
    "\n",
    "                r = r @ w + b\n",
    "                if not is_last:\n",
    "                    r = r.relu()\n",
    "                else:\n",
    "                    r = r.softmax(dim=0)\n",
    "\n",
    "            next_char = torch.multinomial(r, num_samples=1).item()\n",
    "\n",
    "            if next_char in [char_to_code[c] for c in chain(before_start_chars, [end_char])]:\n",
    "                break\n",
    "\n",
    "            yield next_char\n",
    "            prev = prev[1:] + [next_char]\n"
   ],
   "id": "cab97e9606c4aaa8",
   "outputs": [],
   "execution_count": 21
  },
  {
   "metadata": {
    "ExecuteTime": {
     "end_time": "2025-04-26T18:46:55.337930Z",
     "start_time": "2025-04-26T18:46:55.198159Z"
    }
   },
   "cell_type": "code",
   "source": [
    "for _ in range(11):\n",
    "    print(\"\".join(code_to_char[c] for c in generate_name()))\n"
   ],
   "id": "73eda8dc1ebba771",
   "outputs": [
    {
     "name": "stdout",
     "output_type": "stream",
     "text": [
      "vomhly\n",
      "neooeila\n",
      "kezioa\n",
      "tdpiin\n",
      "yaralia\n",
      "aurmi\n",
      "jlsuenra\n",
      "saama\n",
      "jeila\n",
      "lrguasea\n",
      "daanna\n"
     ]
    },
    {
     "name": "stderr",
     "output_type": "stream",
     "text": [
      "/tmp/ipykernel_3180619/2612326761.py:7: UserWarning: To copy construct from a tensor, it is recommended to use sourceTensor.detach().clone() or sourceTensor.detach().clone().requires_grad_(True), rather than torch.tensor(sourceTensor).\n",
      "  distribution_tensor = torch.tensor(prev_tensor, dtype=torch.int64, device=device)\n"
     ]
    }
   ],
   "execution_count": 22
  },
  {
   "metadata": {},
   "cell_type": "code",
   "outputs": [],
   "execution_count": null,
   "source": "",
   "id": "2e1b5f1805252b44"
  }
 ],
 "metadata": {
  "kernelspec": {
   "display_name": "Python 3",
   "language": "python",
   "name": "python3"
  },
  "language_info": {
   "codemirror_mode": {
    "name": "ipython",
    "version": 2
   },
   "file_extension": ".py",
   "mimetype": "text/x-python",
   "name": "python",
   "nbconvert_exporter": "python",
   "pygments_lexer": "ipython2",
   "version": "2.7.6"
  }
 },
 "nbformat": 4,
 "nbformat_minor": 5
}
