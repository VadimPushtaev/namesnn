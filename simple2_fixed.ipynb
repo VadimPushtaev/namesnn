{
 "cells": [
  {
   "cell_type": "code",
   "id": "initial_id",
   "metadata": {
    "collapsed": true,
    "ExecuteTime": {
     "end_time": "2025-06-28T15:51:02.095747Z",
     "start_time": "2025-06-28T15:51:02.085605Z"
    }
   },
   "source": [
    "import torch\n",
    "import torch.nn.functional as F\n",
    "import matplotlib.pyplot as plt # for making figures\n",
    "import random\n",
    "%matplotlib inline"
   ],
   "outputs": [],
   "execution_count": 120
  },
  {
   "metadata": {
    "ExecuteTime": {
     "end_time": "2025-06-28T15:51:02.473520Z",
     "start_time": "2025-06-28T15:51:02.442356Z"
    }
   },
   "cell_type": "code",
   "source": [
    "raw_words = open('first_names.all.txt').read().splitlines()\n",
    "raw_words[:8]"
   ],
   "id": "2f27d7ec0a299808",
   "outputs": [
    {
     "data": {
      "text/plain": [
       "[\"a'isha\",\n",
       " \"a'ishah\",\n",
       " 'a-jay',\n",
       " \"aa'isha\",\n",
       " \"aa'ishah\",\n",
       " 'aaban',\n",
       " 'aabas',\n",
       " 'aabha']"
      ]
     },
     "execution_count": 121,
     "metadata": {},
     "output_type": "execute_result"
    }
   ],
   "execution_count": 121
  },
  {
   "metadata": {
    "ExecuteTime": {
     "end_time": "2025-06-28T15:51:02.568349Z",
     "start_time": "2025-06-28T15:51:02.563668Z"
    }
   },
   "cell_type": "code",
   "source": "block_size = 3",
   "id": "874c5b4edc174baa",
   "outputs": [],
   "execution_count": 122
  },
  {
   "metadata": {
    "ExecuteTime": {
     "end_time": "2025-06-28T15:51:03.325319Z",
     "start_time": "2025-06-28T15:51:03.291258Z"
    }
   },
   "cell_type": "code",
   "source": [
    "words = []\n",
    "for word in raw_words:\n",
    "    if word.isalpha():\n",
    "        words.append(word)\n"
   ],
   "id": "270406641cd7595",
   "outputs": [],
   "execution_count": 123
  },
  {
   "metadata": {
    "ExecuteTime": {
     "end_time": "2025-06-28T15:51:03.380577Z",
     "start_time": "2025-06-28T15:51:03.358594Z"
    }
   },
   "cell_type": "code",
   "source": [
    "# build the vocabulary of characters and mappings to/from integers\n",
    "chars = sorted(list(set(''.join(words))))\n",
    "stoi = {s:i+1 for i,s in enumerate(chars)}\n",
    "stoi['.'] = 0\n",
    "itos = {i:s for s,i in stoi.items()}\n",
    "print(itos)\n",
    "\n",
    "chars_n = len(chars) + 1"
   ],
   "id": "5c77c479c22dc9d4",
   "outputs": [
    {
     "name": "stdout",
     "output_type": "stream",
     "text": [
      "{1: 'a', 2: 'b', 3: 'c', 4: 'd', 5: 'e', 6: 'f', 7: 'g', 8: 'h', 9: 'i', 10: 'j', 11: 'k', 12: 'l', 13: 'm', 14: 'n', 15: 'o', 16: 'p', 17: 'q', 18: 'r', 19: 's', 20: 't', 21: 'u', 22: 'v', 23: 'w', 24: 'x', 25: 'y', 26: 'z', 27: 'ß', 28: 'à', 29: 'á', 30: 'â', 31: 'ã', 32: 'ä', 33: 'å', 34: 'æ', 35: 'ç', 36: 'è', 37: 'é', 38: 'ê', 39: 'ë', 40: 'ì', 41: 'í', 42: 'î', 43: 'ï', 44: 'ð', 45: 'ñ', 46: 'ò', 47: 'ó', 48: 'ô', 49: 'õ', 50: 'ö', 51: 'ø', 52: 'ù', 53: 'ú', 54: 'û', 55: 'ü', 56: 'ý', 57: 'þ', 58: 'ā', 59: 'ă', 60: 'ą', 61: 'ć', 62: 'č', 63: 'ď', 64: 'đ', 65: 'ē', 66: 'ė', 67: 'ę', 68: 'ě', 69: 'ğ', 70: 'ģ', 71: 'ī', 72: 'ı', 73: 'ĳ', 74: 'ķ', 75: 'ļ', 76: 'ľ', 77: 'ł', 78: 'ņ', 79: 'ň', 80: 'ő', 81: 'ř', 82: 'ş', 83: 'ţ', 84: 'ť', 85: 'ū', 86: 'ż', 87: 'ž', 0: '.'}\n"
     ]
    }
   ],
   "execution_count": 124
  },
  {
   "metadata": {
    "ExecuteTime": {
     "end_time": "2025-06-28T15:51:07.775649Z",
     "start_time": "2025-06-28T15:51:03.680066Z"
    }
   },
   "cell_type": "code",
   "source": [
    "def build_dataset(words):\n",
    "  X, Y = [], []\n",
    "  for w in words:\n",
    "\n",
    "    context = [0] * block_size\n",
    "    for ch in w + '.':\n",
    "      ix = stoi[ch]\n",
    "      X.append(context)\n",
    "      Y.append(ix)\n",
    "      context = context[1:] + [ix] # crop and append\n",
    "\n",
    "  X = torch.tensor(X, device='cuda')\n",
    "  Y = torch.tensor(Y, device='cuda')\n",
    "\n",
    "  return X, Y\n",
    "\n",
    "\n",
    "random.seed(42)\n",
    "random.shuffle(words)\n",
    "n1 = int(0.8*len(words))\n",
    "n2 = int(0.9*len(words))\n",
    "\n",
    "Xtr, Ytr = build_dataset(words[:n1])\n",
    "Xdev, Ydev = build_dataset(words[n1:n2])\n",
    "Xte, Yte = build_dataset(words[n2:])"
   ],
   "id": "13985b66ecd92f4e",
   "outputs": [],
   "execution_count": 125
  },
  {
   "metadata": {
    "ExecuteTime": {
     "end_time": "2025-06-28T15:51:08.007433Z",
     "start_time": "2025-06-28T15:51:08.003431Z"
    }
   },
   "cell_type": "code",
   "source": [
    "def kaiming_init(size: int) -> float:\n",
    "    return (5/3) / (size**0.5)\n",
    "\n",
    "\n",
    "def weight_init(shape: tuple) -> torch.Tensor:\n",
    "    return torch.randn(shape, device=device) * kaiming_init(shape[0])"
   ],
   "id": "e461fcfb0c6428c8",
   "outputs": [],
   "execution_count": 126
  },
  {
   "metadata": {
    "ExecuteTime": {
     "end_time": "2025-06-28T15:51:08.343479Z",
     "start_time": "2025-06-28T15:51:08.336561Z"
    }
   },
   "cell_type": "code",
   "source": [
    "emb_nd = 15\n",
    "\n",
    "device = torch.device('cuda')\n",
    "\n",
    "C = torch.randn((chars_n, emb_nd), device=device)\n",
    "W1 = weight_init((emb_nd * block_size, 400))\n",
    "b1 = torch.randn(400, device=device) * 0.001\n",
    "W2 = weight_init((400, 400))\n",
    "b2 = torch.randn(400, device=device) * 0.001\n",
    "W3 = torch.randn((400, chars_n), device=device) * 0.001\n",
    "b3 = torch.randn(chars_n, device=device) * 0\n",
    "parameters = [C, W1, b1, W2, b2, W3, b3]"
   ],
   "id": "90306ee4ff9326ce",
   "outputs": [],
   "execution_count": 127
  },
  {
   "metadata": {
    "ExecuteTime": {
     "end_time": "2025-06-28T15:51:08.389647Z",
     "start_time": "2025-06-28T15:51:08.386003Z"
    }
   },
   "cell_type": "code",
   "source": [
    "for p in parameters:\n",
    "  p.requires_grad = True"
   ],
   "id": "1d48471217789c3b",
   "outputs": [],
   "execution_count": 128
  },
  {
   "metadata": {
    "ExecuteTime": {
     "end_time": "2025-06-28T15:51:08.566628Z",
     "start_time": "2025-06-28T15:51:08.562487Z"
    }
   },
   "cell_type": "code",
   "source": [
    "step_history = []\n",
    "loss_history = []\n",
    "dev_loss_history = []\n",
    "step = 0"
   ],
   "id": "748bb2238055cc20",
   "outputs": [],
   "execution_count": 129
  },
  {
   "metadata": {
    "ExecuteTime": {
     "end_time": "2025-06-28T15:51:08.748219Z",
     "start_time": "2025-06-28T15:51:08.743911Z"
    }
   },
   "cell_type": "code",
   "source": [
    "def print_step(step: int) -> None:\n",
    "    if step % 10_000 == 0:\n",
    "        print(f\"Step {step}: train loss {loss.log10():.4f}, dev loss {dev_loss.log10():.4f}\")"
   ],
   "id": "c03728a89e863ec2",
   "outputs": [],
   "execution_count": 130
  },
  {
   "metadata": {
    "ExecuteTime": {
     "end_time": "2025-06-28T15:55:48.807945Z",
     "start_time": "2025-06-28T15:51:10.938625Z"
    }
   },
   "cell_type": "code",
   "source": [
    "for _ in range(100_000):\n",
    "  step += 1\n",
    "  print_step(step)\n",
    "\n",
    "  # minibatch construct\n",
    "  ix = torch.randint(0, Xtr.shape[0], (32,))\n",
    "\n",
    "  # forward pass\n",
    "  x = Xtr[ix]\n",
    "  emb = C[x]\n",
    "  h = torch.tanh(emb.view(-1, emb_nd * block_size) @ W1 + b1)\n",
    "  h = torch.tanh(h @ W2 + b2)\n",
    "  logits = h @ W3 + b3\n",
    "  loss = F.cross_entropy(logits, Ytr[ix])\n",
    "\n",
    "  # backward pass\n",
    "  for p in parameters:\n",
    "    p.grad = None\n",
    "  loss.backward()\n",
    "\n",
    "  # update\n",
    "  lr = 0.1 if step < 100000 else 0.005\n",
    "  for p in parameters:\n",
    "    p.data += -lr * p.grad\n",
    "\n",
    "  # dev loss\n",
    "  if step % 100 == 0 or step == 1:\n",
    "    with torch.no_grad():\n",
    "      emb = C[Xdev]\n",
    "      h = torch.tanh(emb.view(-1, emb_nd * block_size) @ W1 + b1)\n",
    "      h = torch.tanh(h @ W2 + b2)\n",
    "      logits = h @ W3 + b3\n",
    "      dev_loss = F.cross_entropy(logits, Ydev)\n",
    "\n",
    "  # track stats\n",
    "  step_history.append(step)\n",
    "  loss_history.append(loss.log10().item())\n",
    "  dev_loss_history.append(dev_loss.log10().item())"
   ],
   "id": "8e34c513378637ca",
   "outputs": [
    {
     "name": "stdout",
     "output_type": "stream",
     "text": [
      "Step 10000: train loss 0.4104, dev loss 0.3970\n",
      "Step 20000: train loss 0.3413, dev loss 0.3868\n",
      "Step 30000: train loss 0.3331, dev loss 0.3864\n",
      "Step 40000: train loss 0.3373, dev loss 0.3802\n",
      "Step 50000: train loss 0.3644, dev loss 0.3823\n",
      "Step 60000: train loss 0.3743, dev loss 0.3781\n",
      "Step 70000: train loss 0.3636, dev loss 0.3830\n",
      "Step 80000: train loss 0.4269, dev loss 0.3798\n",
      "Step 90000: train loss 0.3812, dev loss 0.3814\n",
      "Step 100000: train loss 0.3406, dev loss 0.3769\n"
     ]
    }
   ],
   "execution_count": 131
  },
  {
   "metadata": {
    "ExecuteTime": {
     "end_time": "2025-06-28T15:55:49.522832Z",
     "start_time": "2025-06-28T15:55:49.013401Z"
    }
   },
   "cell_type": "code",
   "source": [
    "plt.plot(step_history[:], loss_history[:], label='train')\n",
    "plt.plot(step_history[:], dev_loss_history[:], label='dev')"
   ],
   "id": "b0374a8035c072f0",
   "outputs": [
    {
     "data": {
      "text/plain": [
       "[<matplotlib.lines.Line2D at 0x7fe38b3a11f0>]"
      ]
     },
     "execution_count": 132,
     "metadata": {},
     "output_type": "execute_result"
    },
    {
     "data": {
      "text/plain": [
       "<Figure size 640x480 with 1 Axes>"
      ],
      "image/png": "[encoded data removed]"
     },
     "metadata": {},
     "output_type": "display_data"
    }
   ],
   "execution_count": 132
  },
  {
   "metadata": {
    "ExecuteTime": {
     "end_time": "2025-06-28T17:36:33.992918Z",
     "start_time": "2025-06-28T17:36:33.799960Z"
    }
   },
   "cell_type": "code",
   "source": [
    "# sample from the model\n",
    "for _ in range(20):\n",
    "    out = []\n",
    "    context = [0] * block_size # initialize with all ...\n",
    "    while True:\n",
    "      emb = C[torch.tensor([context], device=device)]\n",
    "      h = torch.tanh(emb.view(1, -1) @ W1 + b1)\n",
    "      h = torch.tanh(h @ W2 + b2)\n",
    "      logits = h @ W3 + b3\n",
    "      probs = F.softmax(logits, dim=1)\n",
    "      ix = torch.multinomial(probs, num_samples=1).item()\n",
    "      context = context[1:] + [ix]\n",
    "      out.append(ix)\n",
    "      if ix == 0:\n",
    "        break\n",
    "\n",
    "    print(''.join(itos[i] for i in out))"
   ],
   "id": "e6aa6c511ff8382c",
   "outputs": [
    {
     "name": "stdout",
     "output_type": "stream",
     "text": [
      "tjozliel.\n",
      "qua.\n",
      "parahnde.\n",
      "jode.\n",
      "gracia.\n",
      "amira.\n",
      "bela.\n",
      "eigh.\n",
      "trawlin.\n",
      "gelinn.\n",
      "kaycarbjøriiha.\n",
      "jodne.\n",
      "spartauikalla.\n",
      "ahmail.\n",
      "juniean.\n",
      "soma.\n",
      "rayse.\n",
      "leok.\n",
      "ranette.\n",
      "harya.\n"
     ]
    }
   ],
   "execution_count": 133
  },
  {
   "metadata": {},
   "cell_type": "code",
   "outputs": [],
   "execution_count": null,
   "source": "",
   "id": "a3e582df94df4055"
  }
 ],
 "metadata": {
  "kernelspec": {
   "display_name": "Python 3",
   "language": "python",
   "name": "python3"
  },
  "language_info": {
   "codemirror_mode": {
    "name": "ipython",
    "version": 2
   },
   "file_extension": ".py",
   "mimetype": "text/x-python",
   "name": "python",
   "nbconvert_exporter": "python",
   "pygments_lexer": "ipython2",
   "version": "2.7.6"
  }
 },
 "nbformat": 4,
 "nbformat_minor": 5
}
